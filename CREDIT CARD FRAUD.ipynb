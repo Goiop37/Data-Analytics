{
 "cells": [
  {
   "cell_type": "markdown",
   "id": "active-belize",
   "metadata": {},
   "source": [
    "# Exploratory Data Analysis of Credit Card Fraud\n",
    "\n",
    "This dataset consists of credit card transactions in the western United States. It includes information about each transaction including customer details, the merchant and category of purchase, and whether or not the transaction was a fraud."
   ]
  },
  {
   "cell_type": "code",
   "execution_count": 87,
   "id": "inclusive-leeds",
   "metadata": {
    "executionCancelledAt": null,
    "executionTime": 3193,
    "lastExecutedAt": 1722755597596,
    "lastExecutedByKernel": "f1f5dfbc-d60e-49c3-93ac-c622eaadfe99",
    "lastScheduledRunId": null,
    "lastSuccessfullyExecutedCode": "import pandas as pd \nccf = pd.read_csv('credit_card_fraud.csv') \nccf.head(100)",
    "outputsMetadata": {
     "0": {
      "height": 333,
      "type": "dataFrame"
     }
    }
   },
   "outputs": [
    {
     "data": {
      "text/html": [
       "<div>\n",
       "<style scoped>\n",
       "    .dataframe tbody tr th:only-of-type {\n",
       "        vertical-align: middle;\n",
       "    }\n",
       "\n",
       "    .dataframe tbody tr th {\n",
       "        vertical-align: top;\n",
       "    }\n",
       "\n",
       "    .dataframe thead th {\n",
       "        text-align: right;\n",
       "    }\n",
       "</style>\n",
       "<table border=\"1\" class=\"dataframe\">\n",
       "  <thead>\n",
       "    <tr style=\"text-align: right;\">\n",
       "      <th></th>\n",
       "      <th>trans_date_trans_time</th>\n",
       "      <th>merchant</th>\n",
       "      <th>category</th>\n",
       "      <th>amt</th>\n",
       "      <th>city</th>\n",
       "      <th>state</th>\n",
       "      <th>lat</th>\n",
       "      <th>long</th>\n",
       "      <th>city_pop</th>\n",
       "      <th>job</th>\n",
       "      <th>dob</th>\n",
       "      <th>trans_num</th>\n",
       "      <th>merch_lat</th>\n",
       "      <th>merch_long</th>\n",
       "      <th>is_fraud</th>\n",
       "    </tr>\n",
       "  </thead>\n",
       "  <tbody>\n",
       "    <tr>\n",
       "      <th>0</th>\n",
       "      <td>2019-01-01 00:00:44</td>\n",
       "      <td>Heller, Gutmann and Zieme</td>\n",
       "      <td>grocery_pos</td>\n",
       "      <td>107.23</td>\n",
       "      <td>Orient</td>\n",
       "      <td>WA</td>\n",
       "      <td>48.8878</td>\n",
       "      <td>-118.2105</td>\n",
       "      <td>149</td>\n",
       "      <td>Special educational needs teacher</td>\n",
       "      <td>1978-06-21</td>\n",
       "      <td>1f76529f8574734946361c461b024d99</td>\n",
       "      <td>49.159047</td>\n",
       "      <td>-118.186462</td>\n",
       "      <td>0</td>\n",
       "    </tr>\n",
       "    <tr>\n",
       "      <th>1</th>\n",
       "      <td>2019-01-01 00:00:51</td>\n",
       "      <td>Lind-Buckridge</td>\n",
       "      <td>entertainment</td>\n",
       "      <td>220.11</td>\n",
       "      <td>Malad City</td>\n",
       "      <td>ID</td>\n",
       "      <td>42.1808</td>\n",
       "      <td>-112.2620</td>\n",
       "      <td>4154</td>\n",
       "      <td>Nature conservation officer</td>\n",
       "      <td>1962-01-19</td>\n",
       "      <td>a1a22d70485983eac12b5b88dad1cf95</td>\n",
       "      <td>43.150704</td>\n",
       "      <td>-112.154481</td>\n",
       "      <td>0</td>\n",
       "    </tr>\n",
       "    <tr>\n",
       "      <th>2</th>\n",
       "      <td>2019-01-01 00:07:27</td>\n",
       "      <td>Kiehn Inc</td>\n",
       "      <td>grocery_pos</td>\n",
       "      <td>96.29</td>\n",
       "      <td>Grenada</td>\n",
       "      <td>CA</td>\n",
       "      <td>41.6125</td>\n",
       "      <td>-122.5258</td>\n",
       "      <td>589</td>\n",
       "      <td>Systems analyst</td>\n",
       "      <td>1945-12-21</td>\n",
       "      <td>413636e759663f264aae1819a4d4f231</td>\n",
       "      <td>41.657520</td>\n",
       "      <td>-122.230347</td>\n",
       "      <td>0</td>\n",
       "    </tr>\n",
       "    <tr>\n",
       "      <th>3</th>\n",
       "      <td>2019-01-01 00:09:03</td>\n",
       "      <td>Beier-Hyatt</td>\n",
       "      <td>shopping_pos</td>\n",
       "      <td>7.77</td>\n",
       "      <td>High Rolls Mountain Park</td>\n",
       "      <td>NM</td>\n",
       "      <td>32.9396</td>\n",
       "      <td>-105.8189</td>\n",
       "      <td>899</td>\n",
       "      <td>Naval architect</td>\n",
       "      <td>1967-08-30</td>\n",
       "      <td>8a6293af5ed278dea14448ded2685fea</td>\n",
       "      <td>32.863258</td>\n",
       "      <td>-106.520205</td>\n",
       "      <td>0</td>\n",
       "    </tr>\n",
       "    <tr>\n",
       "      <th>4</th>\n",
       "      <td>2019-01-01 00:21:32</td>\n",
       "      <td>Bruen-Yost</td>\n",
       "      <td>misc_pos</td>\n",
       "      <td>6.85</td>\n",
       "      <td>Freedom</td>\n",
       "      <td>WY</td>\n",
       "      <td>43.0172</td>\n",
       "      <td>-111.0292</td>\n",
       "      <td>471</td>\n",
       "      <td>Education officer, museum</td>\n",
       "      <td>1967-08-02</td>\n",
       "      <td>f3c43d336e92a44fc2fb67058d5949e3</td>\n",
       "      <td>43.753735</td>\n",
       "      <td>-111.454923</td>\n",
       "      <td>0</td>\n",
       "    </tr>\n",
       "  </tbody>\n",
       "</table>\n",
       "</div>"
      ],
      "text/plain": [
       "  trans_date_trans_time                   merchant       category     amt  \\\n",
       "0   2019-01-01 00:00:44  Heller, Gutmann and Zieme    grocery_pos  107.23   \n",
       "1   2019-01-01 00:00:51             Lind-Buckridge  entertainment  220.11   \n",
       "2   2019-01-01 00:07:27                  Kiehn Inc    grocery_pos   96.29   \n",
       "3   2019-01-01 00:09:03                Beier-Hyatt   shopping_pos    7.77   \n",
       "4   2019-01-01 00:21:32                 Bruen-Yost       misc_pos    6.85   \n",
       "\n",
       "                       city state      lat      long  city_pop  \\\n",
       "0                    Orient    WA  48.8878 -118.2105       149   \n",
       "1                Malad City    ID  42.1808 -112.2620      4154   \n",
       "2                   Grenada    CA  41.6125 -122.5258       589   \n",
       "3  High Rolls Mountain Park    NM  32.9396 -105.8189       899   \n",
       "4                   Freedom    WY  43.0172 -111.0292       471   \n",
       "\n",
       "                                 job         dob  \\\n",
       "0  Special educational needs teacher  1978-06-21   \n",
       "1        Nature conservation officer  1962-01-19   \n",
       "2                    Systems analyst  1945-12-21   \n",
       "3                    Naval architect  1967-08-30   \n",
       "4          Education officer, museum  1967-08-02   \n",
       "\n",
       "                          trans_num  merch_lat  merch_long  is_fraud  \n",
       "0  1f76529f8574734946361c461b024d99  49.159047 -118.186462         0  \n",
       "1  a1a22d70485983eac12b5b88dad1cf95  43.150704 -112.154481         0  \n",
       "2  413636e759663f264aae1819a4d4f231  41.657520 -122.230347         0  \n",
       "3  8a6293af5ed278dea14448ded2685fea  32.863258 -106.520205         0  \n",
       "4  f3c43d336e92a44fc2fb67058d5949e3  43.753735 -111.454923         0  "
      ]
     },
     "execution_count": 87,
     "metadata": {},
     "output_type": "execute_result"
    }
   ],
   "source": [
    "import pandas as pd \n",
    "ccf = pd.read_csv('D:\\\\RUPA\\\\GIT - DA\\\\credit_card_fraud.csv') \n",
    "ccf.head(5)"
   ]
  },
  {
   "cell_type": "code",
   "execution_count": 79,
   "id": "adce07d6-d191-41c6-acca-aaea9e1b03b8",
   "metadata": {
    "executionCancelledAt": null,
    "executionTime": null,
    "lastExecutedAt": null,
    "lastExecutedByKernel": null,
    "lastScheduledRunId": null,
    "lastSuccessfullyExecutedCode": null,
    "outputsMetadata": {
     "0": {
      "height": 426,
      "type": "stream"
     }
    }
   },
   "outputs": [
    {
     "name": "stdout",
     "output_type": "stream",
     "text": [
      "<class 'pandas.core.frame.DataFrame'>\n",
      "RangeIndex: 339607 entries, 0 to 339606\n",
      "Data columns (total 15 columns):\n",
      " #   Column                 Non-Null Count   Dtype  \n",
      "---  ------                 --------------   -----  \n",
      " 0   trans_date_trans_time  339607 non-null  object \n",
      " 1   merchant               339607 non-null  object \n",
      " 2   category               339607 non-null  object \n",
      " 3   amt                    339607 non-null  float64\n",
      " 4   city                   339607 non-null  object \n",
      " 5   state                  339607 non-null  object \n",
      " 6   lat                    339607 non-null  float64\n",
      " 7   long                   339607 non-null  float64\n",
      " 8   city_pop               339607 non-null  int64  \n",
      " 9   job                    339607 non-null  object \n",
      " 10  dob                    339607 non-null  object \n",
      " 11  trans_num              339607 non-null  object \n",
      " 12  merch_lat              339607 non-null  float64\n",
      " 13  merch_long             339607 non-null  float64\n",
      " 14  is_fraud               339607 non-null  int64  \n",
      "dtypes: float64(5), int64(2), object(8)\n",
      "memory usage: 38.9+ MB\n"
     ]
    }
   ],
   "source": [
    "#obtain count of number of entries and data type\n",
    "ccf.info()"
   ]
  },
  {
   "cell_type": "code",
   "execution_count": 80,
   "id": "69541901-ebb8-4643-81d8-9231201bfe07",
   "metadata": {
    "executionCancelledAt": null,
    "executionTime": null,
    "lastExecutedAt": null,
    "lastExecutedByKernel": null,
    "lastScheduledRunId": null,
    "lastSuccessfullyExecutedCode": null,
    "outputsMetadata": {
     "0": {
      "height": 317,
      "type": "dataFrame"
     }
    }
   },
   "outputs": [
    {
     "data": {
      "text/plain": [
       "trans_date_trans_time    0\n",
       "merchant                 0\n",
       "category                 0\n",
       "amt                      0\n",
       "city                     0\n",
       "state                    0\n",
       "lat                      0\n",
       "long                     0\n",
       "city_pop                 0\n",
       "job                      0\n",
       "dob                      0\n",
       "trans_num                0\n",
       "merch_lat                0\n",
       "merch_long               0\n",
       "is_fraud                 0\n",
       "dtype: int64"
      ]
     },
     "execution_count": 80,
     "metadata": {},
     "output_type": "execute_result"
    }
   ],
   "source": [
    "#obtain count of null values\n",
    "ccf.isnull().sum()"
   ]
  },
  {
   "cell_type": "code",
   "execution_count": 88,
   "id": "036c2c8d-b35e-48f2-ac23-8fb550814298",
   "metadata": {
    "executionCancelledAt": null,
    "executionTime": 29,
    "lastExecutedAt": 1722755605696,
    "lastExecutedByKernel": "f1f5dfbc-d60e-49c3-93ac-c622eaadfe99",
    "lastScheduledRunId": null,
    "lastSuccessfullyExecutedCode": "ccf=ccf.drop('trans_num', axis=1)"
   },
   "outputs": [],
   "source": [
    "#trans-num field is not necessary. So removing it\n",
    "ccf=ccf.drop('trans_num', axis=1)"
   ]
  },
  {
   "cell_type": "code",
   "execution_count": 82,
   "id": "c359d321-50da-435b-a37b-5f5afabda3f2",
   "metadata": {
    "executionCancelledAt": null,
    "executionTime": 31,
    "lastExecutedAt": 1722755609941,
    "lastExecutedByKernel": "f1f5dfbc-d60e-49c3-93ac-c622eaadfe99",
    "lastScheduledRunId": null,
    "lastSuccessfullyExecutedCode": "ccf.head()",
    "outputsMetadata": {
     "0": {
      "height": 210,
      "type": "dataFrame"
     }
    }
   },
   "outputs": [
    {
     "data": {
      "text/html": [
       "<div>\n",
       "<style scoped>\n",
       "    .dataframe tbody tr th:only-of-type {\n",
       "        vertical-align: middle;\n",
       "    }\n",
       "\n",
       "    .dataframe tbody tr th {\n",
       "        vertical-align: top;\n",
       "    }\n",
       "\n",
       "    .dataframe thead th {\n",
       "        text-align: right;\n",
       "    }\n",
       "</style>\n",
       "<table border=\"1\" class=\"dataframe\">\n",
       "  <thead>\n",
       "    <tr style=\"text-align: right;\">\n",
       "      <th></th>\n",
       "      <th>trans_date_trans_time</th>\n",
       "      <th>merchant</th>\n",
       "      <th>category</th>\n",
       "      <th>amt</th>\n",
       "      <th>city</th>\n",
       "      <th>state</th>\n",
       "      <th>lat</th>\n",
       "      <th>long</th>\n",
       "      <th>city_pop</th>\n",
       "      <th>job</th>\n",
       "      <th>dob</th>\n",
       "      <th>merch_lat</th>\n",
       "      <th>merch_long</th>\n",
       "      <th>is_fraud</th>\n",
       "    </tr>\n",
       "  </thead>\n",
       "  <tbody>\n",
       "    <tr>\n",
       "      <th>0</th>\n",
       "      <td>2019-01-01 00:00:44</td>\n",
       "      <td>Heller, Gutmann and Zieme</td>\n",
       "      <td>grocery_pos</td>\n",
       "      <td>107.23</td>\n",
       "      <td>Orient</td>\n",
       "      <td>WA</td>\n",
       "      <td>48.8878</td>\n",
       "      <td>-118.2105</td>\n",
       "      <td>149</td>\n",
       "      <td>Special educational needs teacher</td>\n",
       "      <td>1978-06-21</td>\n",
       "      <td>49.159047</td>\n",
       "      <td>-118.186462</td>\n",
       "      <td>0</td>\n",
       "    </tr>\n",
       "    <tr>\n",
       "      <th>1</th>\n",
       "      <td>2019-01-01 00:00:51</td>\n",
       "      <td>Lind-Buckridge</td>\n",
       "      <td>entertainment</td>\n",
       "      <td>220.11</td>\n",
       "      <td>Malad City</td>\n",
       "      <td>ID</td>\n",
       "      <td>42.1808</td>\n",
       "      <td>-112.2620</td>\n",
       "      <td>4154</td>\n",
       "      <td>Nature conservation officer</td>\n",
       "      <td>1962-01-19</td>\n",
       "      <td>43.150704</td>\n",
       "      <td>-112.154481</td>\n",
       "      <td>0</td>\n",
       "    </tr>\n",
       "    <tr>\n",
       "      <th>2</th>\n",
       "      <td>2019-01-01 00:07:27</td>\n",
       "      <td>Kiehn Inc</td>\n",
       "      <td>grocery_pos</td>\n",
       "      <td>96.29</td>\n",
       "      <td>Grenada</td>\n",
       "      <td>CA</td>\n",
       "      <td>41.6125</td>\n",
       "      <td>-122.5258</td>\n",
       "      <td>589</td>\n",
       "      <td>Systems analyst</td>\n",
       "      <td>1945-12-21</td>\n",
       "      <td>41.657520</td>\n",
       "      <td>-122.230347</td>\n",
       "      <td>0</td>\n",
       "    </tr>\n",
       "    <tr>\n",
       "      <th>3</th>\n",
       "      <td>2019-01-01 00:09:03</td>\n",
       "      <td>Beier-Hyatt</td>\n",
       "      <td>shopping_pos</td>\n",
       "      <td>7.77</td>\n",
       "      <td>High Rolls Mountain Park</td>\n",
       "      <td>NM</td>\n",
       "      <td>32.9396</td>\n",
       "      <td>-105.8189</td>\n",
       "      <td>899</td>\n",
       "      <td>Naval architect</td>\n",
       "      <td>1967-08-30</td>\n",
       "      <td>32.863258</td>\n",
       "      <td>-106.520205</td>\n",
       "      <td>0</td>\n",
       "    </tr>\n",
       "    <tr>\n",
       "      <th>4</th>\n",
       "      <td>2019-01-01 00:21:32</td>\n",
       "      <td>Bruen-Yost</td>\n",
       "      <td>misc_pos</td>\n",
       "      <td>6.85</td>\n",
       "      <td>Freedom</td>\n",
       "      <td>WY</td>\n",
       "      <td>43.0172</td>\n",
       "      <td>-111.0292</td>\n",
       "      <td>471</td>\n",
       "      <td>Education officer, museum</td>\n",
       "      <td>1967-08-02</td>\n",
       "      <td>43.753735</td>\n",
       "      <td>-111.454923</td>\n",
       "      <td>0</td>\n",
       "    </tr>\n",
       "  </tbody>\n",
       "</table>\n",
       "</div>"
      ],
      "text/plain": [
       "  trans_date_trans_time                   merchant       category     amt  \\\n",
       "0   2019-01-01 00:00:44  Heller, Gutmann and Zieme    grocery_pos  107.23   \n",
       "1   2019-01-01 00:00:51             Lind-Buckridge  entertainment  220.11   \n",
       "2   2019-01-01 00:07:27                  Kiehn Inc    grocery_pos   96.29   \n",
       "3   2019-01-01 00:09:03                Beier-Hyatt   shopping_pos    7.77   \n",
       "4   2019-01-01 00:21:32                 Bruen-Yost       misc_pos    6.85   \n",
       "\n",
       "                       city state      lat      long  city_pop  \\\n",
       "0                    Orient    WA  48.8878 -118.2105       149   \n",
       "1                Malad City    ID  42.1808 -112.2620      4154   \n",
       "2                   Grenada    CA  41.6125 -122.5258       589   \n",
       "3  High Rolls Mountain Park    NM  32.9396 -105.8189       899   \n",
       "4                   Freedom    WY  43.0172 -111.0292       471   \n",
       "\n",
       "                                 job         dob  merch_lat  merch_long  \\\n",
       "0  Special educational needs teacher  1978-06-21  49.159047 -118.186462   \n",
       "1        Nature conservation officer  1962-01-19  43.150704 -112.154481   \n",
       "2                    Systems analyst  1945-12-21  41.657520 -122.230347   \n",
       "3                    Naval architect  1967-08-30  32.863258 -106.520205   \n",
       "4          Education officer, museum  1967-08-02  43.753735 -111.454923   \n",
       "\n",
       "   is_fraud  \n",
       "0         0  \n",
       "1         0  \n",
       "2         0  \n",
       "3         0  \n",
       "4         0  "
      ]
     },
     "execution_count": 82,
     "metadata": {},
     "output_type": "execute_result"
    }
   ],
   "source": [
    "ccf.head()"
   ]
  },
  {
   "cell_type": "code",
   "execution_count": 89,
   "id": "08aea966-334a-45e8-942d-43841c16d308",
   "metadata": {},
   "outputs": [],
   "source": [
    "#convert string to date-time type so that we can use date-time functions\n",
    "ccf['trans_date_trans_time_dt']=pd.to_datetime(ccf['trans_date_trans_time'])"
   ]
  },
  {
   "cell_type": "code",
   "execution_count": 91,
   "id": "08d46519-8e77-4b5f-a7ce-7f7f619b35cb",
   "metadata": {},
   "outputs": [],
   "source": [
    "#generate year-month from date-time object\n",
    "ccf['year_month']=ccf['trans_date_trans_time_dt'].dt.strftime('%Y-%m')"
   ]
  },
  {
   "cell_type": "code",
   "execution_count": 92,
   "id": "c6a05f3a-c5eb-45ce-aa4e-475cff1403fa",
   "metadata": {},
   "outputs": [
    {
     "data": {
      "text/plain": [
       "0         2019-01\n",
       "1         2019-01\n",
       "2         2019-01\n",
       "3         2019-01\n",
       "4         2019-01\n",
       "           ...   \n",
       "339602    2020-12\n",
       "339603    2020-12\n",
       "339604    2020-12\n",
       "339605    2020-12\n",
       "339606    2020-12\n",
       "Name: year_month, Length: 339607, dtype: object"
      ]
     },
     "execution_count": 92,
     "metadata": {},
     "output_type": "execute_result"
    }
   ],
   "source": [
    "ccf['year_month']"
   ]
  },
  {
   "cell_type": "code",
   "execution_count": 93,
   "id": "7ccb9632-d5d0-4b95-a558-b29179f88fdc",
   "metadata": {
    "executionCancelledAt": null,
    "executionTime": 631,
    "lastExecutedAt": 1722755623312,
    "lastExecutedByKernel": "f1f5dfbc-d60e-49c3-93ac-c622eaadfe99",
    "lastScheduledRunId": null,
    "lastSuccessfullyExecutedCode": "trans_date_time= ccf['trans_date_trans_time'].str.split(\" \", n=1, expand=True)\n",
    "outputsMetadata": {
     "0": {
      "height": 317,
      "type": "dataFrame"
     }
    }
   },
   "outputs": [],
   "source": [
    "#split the date and time in trans_date_time field (string)\n",
    "trans_date_time= ccf['trans_date_trans_time'].str.split(\" \", n=1, expand=True)"
   ]
  },
  {
   "cell_type": "code",
   "execution_count": 94,
   "id": "c49c46ab-5e7a-493c-8059-cee0af9016d5",
   "metadata": {},
   "outputs": [
    {
     "data": {
      "text/html": [
       "<div>\n",
       "<style scoped>\n",
       "    .dataframe tbody tr th:only-of-type {\n",
       "        vertical-align: middle;\n",
       "    }\n",
       "\n",
       "    .dataframe tbody tr th {\n",
       "        vertical-align: top;\n",
       "    }\n",
       "\n",
       "    .dataframe thead th {\n",
       "        text-align: right;\n",
       "    }\n",
       "</style>\n",
       "<table border=\"1\" class=\"dataframe\">\n",
       "  <thead>\n",
       "    <tr style=\"text-align: right;\">\n",
       "      <th></th>\n",
       "      <th>0</th>\n",
       "      <th>1</th>\n",
       "    </tr>\n",
       "  </thead>\n",
       "  <tbody>\n",
       "    <tr>\n",
       "      <th>0</th>\n",
       "      <td>2019-01-01</td>\n",
       "      <td>00:00:44</td>\n",
       "    </tr>\n",
       "    <tr>\n",
       "      <th>1</th>\n",
       "      <td>2019-01-01</td>\n",
       "      <td>00:00:51</td>\n",
       "    </tr>\n",
       "    <tr>\n",
       "      <th>2</th>\n",
       "      <td>2019-01-01</td>\n",
       "      <td>00:07:27</td>\n",
       "    </tr>\n",
       "    <tr>\n",
       "      <th>3</th>\n",
       "      <td>2019-01-01</td>\n",
       "      <td>00:09:03</td>\n",
       "    </tr>\n",
       "    <tr>\n",
       "      <th>4</th>\n",
       "      <td>2019-01-01</td>\n",
       "      <td>00:21:32</td>\n",
       "    </tr>\n",
       "  </tbody>\n",
       "</table>\n",
       "</div>"
      ],
      "text/plain": [
       "            0         1\n",
       "0  2019-01-01  00:00:44\n",
       "1  2019-01-01  00:00:51\n",
       "2  2019-01-01  00:07:27\n",
       "3  2019-01-01  00:09:03\n",
       "4  2019-01-01  00:21:32"
      ]
     },
     "execution_count": 94,
     "metadata": {},
     "output_type": "execute_result"
    }
   ],
   "source": [
    "trans_date_time.head()"
   ]
  },
  {
   "cell_type": "code",
   "execution_count": 95,
   "id": "da4bc784-9687-4391-ba82-515b69d71260",
   "metadata": {
    "executionCancelledAt": null,
    "executionTime": 14,
    "lastExecutedAt": 1722755627735,
    "lastExecutedByKernel": "f1f5dfbc-d60e-49c3-93ac-c622eaadfe99",
    "lastScheduledRunId": null,
    "lastSuccessfullyExecutedCode": "ccf['trans_date']=trans_date_time[0]",
    "outputsMetadata": {
     "0": {
      "height": 317,
      "type": "dataFrame"
     }
    }
   },
   "outputs": [],
   "source": [
    "#generate date field (still a string)\n",
    "ccf['trans_date']=trans_date_time.loc[:,0]"
   ]
  },
  {
   "cell_type": "code",
   "execution_count": 96,
   "id": "c32e733e-ca60-4edd-ae23-6827ff1b38fe",
   "metadata": {},
   "outputs": [
    {
     "data": {
      "text/plain": [
       "0    2019-01-01\n",
       "1    2019-01-01\n",
       "2    2019-01-01\n",
       "3    2019-01-01\n",
       "4    2019-01-01\n",
       "Name: trans_date, dtype: object"
      ]
     },
     "execution_count": 96,
     "metadata": {},
     "output_type": "execute_result"
    }
   ],
   "source": [
    "ccf['trans_date'].head()"
   ]
  },
  {
   "cell_type": "code",
   "execution_count": 100,
   "id": "51c31a15-62c8-4bb3-aff0-e4007ae27b60",
   "metadata": {
    "executionCancelledAt": null,
    "executionTime": 33,
    "lastExecutedAt": 1722686610576,
    "lastExecutedByKernel": "1c9c2a0e-5dda-47a1-a279-360957ad59c3",
    "lastScheduledRunId": null,
    "lastSuccessfullyExecutedCode": "ccf.drop('trans_date_trans_time',axis=1,inplace=True)"
   },
   "outputs": [],
   "source": [
    "#drop unwanted columns\n",
    "ccf.drop(['trans_date_trans_time','trans_date_trans_time_dt'] ,axis=1,inplace=True)"
   ]
  },
  {
   "cell_type": "code",
   "execution_count": 101,
   "id": "7824e820-b05d-45be-9e7e-7d1e67e92c74",
   "metadata": {
    "executionCancelledAt": null,
    "executionTime": 62,
    "lastExecutedAt": 1722684267131,
    "lastExecutedByKernel": "1c9c2a0e-5dda-47a1-a279-360957ad59c3",
    "lastScheduledRunId": null,
    "lastSuccessfullyExecutedCode": "ccf['category'].unique()",
    "outputsMetadata": {
     "0": {
      "height": 317,
      "type": "dataFrame"
     }
    }
   },
   "outputs": [
    {
     "data": {
      "text/plain": [
       "array(['grocery_pos', 'entertainment', 'shopping_pos', 'misc_pos',\n",
       "       'shopping_net', 'gas_transport', 'misc_net', 'grocery_net',\n",
       "       'food_dining', 'health_fitness', 'kids_pets', 'home',\n",
       "       'personal_care', 'travel'], dtype=object)"
      ]
     },
     "execution_count": 101,
     "metadata": {},
     "output_type": "execute_result"
    }
   ],
   "source": [
    "ccf['category'].unique()"
   ]
  },
  {
   "cell_type": "code",
   "execution_count": 12,
   "id": "f6c13591-7008-4c6c-8017-da86c2e8d066",
   "metadata": {
    "executionCancelledAt": null,
    "executionTime": null,
    "lastExecutedAt": null,
    "lastExecutedByKernel": null,
    "lastScheduledRunId": null,
    "lastSuccessfullyExecutedCode": null,
    "outputsMetadata": {
     "0": {
      "height": 136,
      "type": "dataFrame"
     }
    }
   },
   "outputs": [
    {
     "data": {
      "text/html": [
       "<div>\n",
       "<style scoped>\n",
       "    .dataframe tbody tr th:only-of-type {\n",
       "        vertical-align: middle;\n",
       "    }\n",
       "\n",
       "    .dataframe tbody tr th {\n",
       "        vertical-align: top;\n",
       "    }\n",
       "\n",
       "    .dataframe thead th {\n",
       "        text-align: right;\n",
       "    }\n",
       "</style>\n",
       "<table border=\"1\" class=\"dataframe\">\n",
       "  <thead>\n",
       "    <tr style=\"text-align: right;\">\n",
       "      <th></th>\n",
       "      <th>merchant</th>\n",
       "      <th>category</th>\n",
       "      <th>amt</th>\n",
       "      <th>city</th>\n",
       "      <th>state</th>\n",
       "      <th>lat</th>\n",
       "      <th>long</th>\n",
       "      <th>city_pop</th>\n",
       "      <th>job</th>\n",
       "      <th>dob</th>\n",
       "      <th>merch_lat</th>\n",
       "      <th>merch_long</th>\n",
       "      <th>trans_date</th>\n",
       "    </tr>\n",
       "    <tr>\n",
       "      <th>is_fraud</th>\n",
       "      <th></th>\n",
       "      <th></th>\n",
       "      <th></th>\n",
       "      <th></th>\n",
       "      <th></th>\n",
       "      <th></th>\n",
       "      <th></th>\n",
       "      <th></th>\n",
       "      <th></th>\n",
       "      <th></th>\n",
       "      <th></th>\n",
       "      <th></th>\n",
       "      <th></th>\n",
       "    </tr>\n",
       "  </thead>\n",
       "  <tbody>\n",
       "    <tr>\n",
       "      <th>0</th>\n",
       "      <td>337825</td>\n",
       "      <td>337825</td>\n",
       "      <td>337825</td>\n",
       "      <td>337825</td>\n",
       "      <td>337825</td>\n",
       "      <td>337825</td>\n",
       "      <td>337825</td>\n",
       "      <td>337825</td>\n",
       "      <td>337825</td>\n",
       "      <td>337825</td>\n",
       "      <td>337825</td>\n",
       "      <td>337825</td>\n",
       "      <td>337825</td>\n",
       "    </tr>\n",
       "    <tr>\n",
       "      <th>1</th>\n",
       "      <td>1782</td>\n",
       "      <td>1782</td>\n",
       "      <td>1782</td>\n",
       "      <td>1782</td>\n",
       "      <td>1782</td>\n",
       "      <td>1782</td>\n",
       "      <td>1782</td>\n",
       "      <td>1782</td>\n",
       "      <td>1782</td>\n",
       "      <td>1782</td>\n",
       "      <td>1782</td>\n",
       "      <td>1782</td>\n",
       "      <td>1782</td>\n",
       "    </tr>\n",
       "  </tbody>\n",
       "</table>\n",
       "</div>"
      ],
      "text/plain": [
       "          merchant  category     amt    city   state     lat    long  \\\n",
       "is_fraud                                                               \n",
       "0           337825    337825  337825  337825  337825  337825  337825   \n",
       "1             1782      1782    1782    1782    1782    1782    1782   \n",
       "\n",
       "          city_pop     job     dob  merch_lat  merch_long  trans_date  \n",
       "is_fraud                                                               \n",
       "0           337825  337825  337825     337825      337825      337825  \n",
       "1             1782    1782    1782       1782        1782        1782  "
      ]
     },
     "execution_count": 12,
     "metadata": {},
     "output_type": "execute_result"
    }
   ],
   "source": [
    "#find the number of fraudulent transactions\n",
    "ccf.groupby('is_fraud').count()"
   ]
  },
  {
   "cell_type": "code",
   "execution_count": 102,
   "id": "c1cbd955-b3ee-49d8-b64e-290bed49ef24",
   "metadata": {
    "executionCancelledAt": null,
    "executionTime": 12,
    "lastExecutedAt": 1722755636186,
    "lastExecutedByKernel": "f1f5dfbc-d60e-49c3-93ac-c622eaadfe99",
    "lastScheduledRunId": null,
    "lastSuccessfullyExecutedCode": "fraud=ccf[ccf['is_fraud']==1]",
    "outputsMetadata": {
     "0": {
      "height": 333,
      "type": "dataFrame"
     }
    }
   },
   "outputs": [],
   "source": [
    "#create fraud dataset\n",
    "fraud=ccf[ccf['is_fraud']==1]"
   ]
  },
  {
   "cell_type": "code",
   "execution_count": 103,
   "id": "d0598e4f-ca0f-4d65-a7c0-16d9d21b1daf",
   "metadata": {
    "executionCancelledAt": null,
    "executionTime": 30,
    "lastExecutedAt": 1722755640783,
    "lastExecutedByKernel": "f1f5dfbc-d60e-49c3-93ac-c622eaadfe99",
    "lastScheduledRunId": null,
    "lastSuccessfullyExecutedCode": "fraud.head()",
    "outputsMetadata": {
     "0": {
      "height": 210,
      "type": "dataFrame"
     }
    }
   },
   "outputs": [
    {
     "data": {
      "text/html": [
       "<div>\n",
       "<style scoped>\n",
       "    .dataframe tbody tr th:only-of-type {\n",
       "        vertical-align: middle;\n",
       "    }\n",
       "\n",
       "    .dataframe tbody tr th {\n",
       "        vertical-align: top;\n",
       "    }\n",
       "\n",
       "    .dataframe thead th {\n",
       "        text-align: right;\n",
       "    }\n",
       "</style>\n",
       "<table border=\"1\" class=\"dataframe\">\n",
       "  <thead>\n",
       "    <tr style=\"text-align: right;\">\n",
       "      <th></th>\n",
       "      <th>merchant</th>\n",
       "      <th>category</th>\n",
       "      <th>amt</th>\n",
       "      <th>city</th>\n",
       "      <th>state</th>\n",
       "      <th>lat</th>\n",
       "      <th>long</th>\n",
       "      <th>city_pop</th>\n",
       "      <th>job</th>\n",
       "      <th>dob</th>\n",
       "      <th>merch_lat</th>\n",
       "      <th>merch_long</th>\n",
       "      <th>is_fraud</th>\n",
       "      <th>year_month</th>\n",
       "      <th>trans_date</th>\n",
       "    </tr>\n",
       "  </thead>\n",
       "  <tbody>\n",
       "    <tr>\n",
       "      <th>945</th>\n",
       "      <td>Stokes, Christiansen and Sipes</td>\n",
       "      <td>grocery_net</td>\n",
       "      <td>14.37</td>\n",
       "      <td>Wales</td>\n",
       "      <td>AK</td>\n",
       "      <td>64.7556</td>\n",
       "      <td>-165.6723</td>\n",
       "      <td>145</td>\n",
       "      <td>Administrator, education</td>\n",
       "      <td>1939-11-09</td>\n",
       "      <td>65.654142</td>\n",
       "      <td>-164.722603</td>\n",
       "      <td>1</td>\n",
       "      <td>2019-01</td>\n",
       "      <td>2019-01-04</td>\n",
       "    </tr>\n",
       "    <tr>\n",
       "      <th>1077</th>\n",
       "      <td>Predovic Inc</td>\n",
       "      <td>shopping_net</td>\n",
       "      <td>966.11</td>\n",
       "      <td>Wales</td>\n",
       "      <td>AK</td>\n",
       "      <td>64.7556</td>\n",
       "      <td>-165.6723</td>\n",
       "      <td>145</td>\n",
       "      <td>Administrator, education</td>\n",
       "      <td>1939-11-09</td>\n",
       "      <td>65.468863</td>\n",
       "      <td>-165.473127</td>\n",
       "      <td>1</td>\n",
       "      <td>2019-01</td>\n",
       "      <td>2019-01-04</td>\n",
       "    </tr>\n",
       "    <tr>\n",
       "      <th>1184</th>\n",
       "      <td>Wisozk and Sons</td>\n",
       "      <td>misc_pos</td>\n",
       "      <td>49.61</td>\n",
       "      <td>Wales</td>\n",
       "      <td>AK</td>\n",
       "      <td>64.7556</td>\n",
       "      <td>-165.6723</td>\n",
       "      <td>145</td>\n",
       "      <td>Administrator, education</td>\n",
       "      <td>1939-11-09</td>\n",
       "      <td>65.347667</td>\n",
       "      <td>-165.914542</td>\n",
       "      <td>1</td>\n",
       "      <td>2019-01</td>\n",
       "      <td>2019-01-04</td>\n",
       "    </tr>\n",
       "    <tr>\n",
       "      <th>1192</th>\n",
       "      <td>Murray-Smitham</td>\n",
       "      <td>grocery_pos</td>\n",
       "      <td>295.26</td>\n",
       "      <td>Wales</td>\n",
       "      <td>AK</td>\n",
       "      <td>64.7556</td>\n",
       "      <td>-165.6723</td>\n",
       "      <td>145</td>\n",
       "      <td>Administrator, education</td>\n",
       "      <td>1939-11-09</td>\n",
       "      <td>64.445035</td>\n",
       "      <td>-166.080207</td>\n",
       "      <td>1</td>\n",
       "      <td>2019-01</td>\n",
       "      <td>2019-01-04</td>\n",
       "    </tr>\n",
       "    <tr>\n",
       "      <th>1202</th>\n",
       "      <td>Friesen Lt</td>\n",
       "      <td>health_fitness</td>\n",
       "      <td>18.17</td>\n",
       "      <td>Wales</td>\n",
       "      <td>AK</td>\n",
       "      <td>64.7556</td>\n",
       "      <td>-165.6723</td>\n",
       "      <td>145</td>\n",
       "      <td>Administrator, education</td>\n",
       "      <td>1939-11-09</td>\n",
       "      <td>65.447094</td>\n",
       "      <td>-165.446843</td>\n",
       "      <td>1</td>\n",
       "      <td>2019-01</td>\n",
       "      <td>2019-01-04</td>\n",
       "    </tr>\n",
       "  </tbody>\n",
       "</table>\n",
       "</div>"
      ],
      "text/plain": [
       "                            merchant        category     amt   city state  \\\n",
       "945   Stokes, Christiansen and Sipes     grocery_net   14.37  Wales    AK   \n",
       "1077                    Predovic Inc    shopping_net  966.11  Wales    AK   \n",
       "1184                 Wisozk and Sons        misc_pos   49.61  Wales    AK   \n",
       "1192                  Murray-Smitham     grocery_pos  295.26  Wales    AK   \n",
       "1202                      Friesen Lt  health_fitness   18.17  Wales    AK   \n",
       "\n",
       "          lat      long  city_pop                       job         dob  \\\n",
       "945   64.7556 -165.6723       145  Administrator, education  1939-11-09   \n",
       "1077  64.7556 -165.6723       145  Administrator, education  1939-11-09   \n",
       "1184  64.7556 -165.6723       145  Administrator, education  1939-11-09   \n",
       "1192  64.7556 -165.6723       145  Administrator, education  1939-11-09   \n",
       "1202  64.7556 -165.6723       145  Administrator, education  1939-11-09   \n",
       "\n",
       "      merch_lat  merch_long  is_fraud year_month  trans_date  \n",
       "945   65.654142 -164.722603         1    2019-01  2019-01-04  \n",
       "1077  65.468863 -165.473127         1    2019-01  2019-01-04  \n",
       "1184  65.347667 -165.914542         1    2019-01  2019-01-04  \n",
       "1192  64.445035 -166.080207         1    2019-01  2019-01-04  \n",
       "1202  65.447094 -165.446843         1    2019-01  2019-01-04  "
      ]
     },
     "execution_count": 103,
     "metadata": {},
     "output_type": "execute_result"
    }
   ],
   "source": [
    "fraud.head()"
   ]
  },
  {
   "cell_type": "code",
   "execution_count": 20,
   "id": "2559d123-f862-4431-995d-5b9f8e9429ac",
   "metadata": {
    "executionCancelledAt": null,
    "executionTime": 12,
    "lastExecutedAt": 1722755658460,
    "lastExecutedByKernel": "f1f5dfbc-d60e-49c3-93ac-c622eaadfe99",
    "lastScheduledRunId": null,
    "lastSuccessfullyExecutedCode": "data1=fraud.groupby('category').count()['is_fraud'].sort_values(ascending=False)",
    "outputsMetadata": {
     "0": {
      "height": 317,
      "type": "dataFrame"
     }
    }
   },
   "outputs": [],
   "source": [
    "#find the number of fraudulent transactions in every category\n",
    "data1=fraud.groupby('category').count()['is_fraud'].sort_values(ascending=False)"
   ]
  },
  {
   "cell_type": "code",
   "execution_count": 21,
   "id": "6a04432f-6989-426d-8fde-2b4d2addf1c4",
   "metadata": {
    "executionCancelledAt": null,
    "executionTime": 14,
    "lastExecutedAt": 1722755661404,
    "lastExecutedByKernel": "f1f5dfbc-d60e-49c3-93ac-c622eaadfe99",
    "lastScheduledRunId": null,
    "lastSuccessfullyExecutedCode": "data1",
    "outputsMetadata": {
     "0": {
      "height": 317,
      "type": "dataFrame"
     }
    }
   },
   "outputs": [
    {
     "data": {
      "text/plain": [
       "category\n",
       "grocery_pos       433\n",
       "shopping_net      381\n",
       "misc_net          217\n",
       "shopping_pos      187\n",
       "gas_transport     153\n",
       "misc_pos           62\n",
       "entertainment      55\n",
       "kids_pets          55\n",
       "personal_care      55\n",
       "home               50\n",
       "food_dining        38\n",
       "health_fitness     36\n",
       "travel             33\n",
       "grocery_net        27\n",
       "Name: is_fraud, dtype: int64"
      ]
     },
     "execution_count": 21,
     "metadata": {},
     "output_type": "execute_result"
    }
   ],
   "source": [
    "data1"
   ]
  },
  {
   "cell_type": "code",
   "execution_count": 22,
   "id": "994f46e0-6cd3-4ce1-9809-aabb2adc3d6d",
   "metadata": {
    "executionCancelledAt": null,
    "executionTime": 635,
    "lastExecutedAt": 1722755665647,
    "lastExecutedByKernel": "f1f5dfbc-d60e-49c3-93ac-c622eaadfe99",
    "lastScheduledRunId": null,
    "lastSuccessfullyExecutedCode": "import seaborn as sns\nimport matplotlib.pyplot as plt"
   },
   "outputs": [],
   "source": [
    "import seaborn as sns\n",
    "import matplotlib.pyplot as plt"
   ]
  },
  {
   "cell_type": "code",
   "execution_count": 23,
   "id": "09234c60-2826-44b3-93ad-fff48482ddaa",
   "metadata": {
    "executionCancelledAt": null,
    "executionTime": 344,
    "lastExecutedAt": 1722685069558,
    "lastExecutedByKernel": "1c9c2a0e-5dda-47a1-a279-360957ad59c3",
    "lastScheduledRunId": null,
    "lastSuccessfullyExecutedCode": "sns.barplot(data=data1).set(title='FRAUD TRANSACTIONS BY CATEGORY')"
   },
   "outputs": [
    {
     "data": {
      "text/plain": [
       "[Text(0.5, 1.0, 'FRAUD TRANSACTIONS BY CATEGORY')]"
      ]
     },
     "execution_count": 23,
     "metadata": {},
     "output_type": "execute_result"
    },
    {
     "data": {
      "image/png": "[encoded data removed]",
      "text/plain": [
       "<Figure size 640x480 with 1 Axes>"
      ]
     },
     "metadata": {},
     "output_type": "display_data"
    }
   ],
   "source": [
    "sns.barplot(data=data1).set(title='FRAUD TRANSACTIONS BY CATEGORY')"
   ]
  },
  {
   "cell_type": "code",
   "execution_count": 24,
   "id": "03ab8e36-6b23-451e-98c7-647d55a22a62",
   "metadata": {},
   "outputs": [
    {
     "name": "stderr",
     "output_type": "stream",
     "text": [
      "C:\\Users\\yrupa\\AppData\\Local\\Temp\\ipykernel_9508\\3855843957.py:4: UserWarning: set_ticklabels() should only be used with a fixed number of ticks, i.e. after set_ticks() or using a FixedLocator.\n",
      "  ax.set_xticklabels(ax.get_xticklabels(), rotation=90)\n"
     ]
    },
    {
     "data": {
      "text/plain": [
       "[Text(0, 0, 'grocery_pos'),\n",
       " Text(1, 0, 'shopping_net'),\n",
       " Text(2, 0, 'misc_net'),\n",
       " Text(3, 0, 'shopping_pos'),\n",
       " Text(4, 0, 'gas_transport'),\n",
       " Text(5, 0, 'misc_pos'),\n",
       " Text(6, 0, 'entertainment'),\n",
       " Text(7, 0, 'kids_pets'),\n",
       " Text(8, 0, 'personal_care'),\n",
       " Text(9, 0, 'home'),\n",
       " Text(10, 0, 'food_dining'),\n",
       " Text(11, 0, 'health_fitness'),\n",
       " Text(12, 0, 'travel'),\n",
       " Text(13, 0, 'grocery_net')]"
      ]
     },
     "execution_count": 24,
     "metadata": {},
     "output_type": "execute_result"
    },
    {
     "data": {
      "image/png": "[encoded data removed]",
      "text/plain": [
       "<Figure size 640x480 with 1 Axes>"
      ]
     },
     "metadata": {},
     "output_type": "display_data"
    }
   ],
   "source": [
    "#avoid overlapping x-axis labels\n",
    "ax=sns.barplot(data=data1)\n",
    "ax.set(title='FRAUD TRANSACTIONS BY CATEGORY')\n",
    "ax.set_xticklabels(ax.get_xticklabels(), rotation=90)"
   ]
  },
  {
   "cell_type": "code",
   "execution_count": 25,
   "id": "8656ef01-1680-4d24-8c6d-c85ca319d341",
   "metadata": {
    "executionCancelledAt": null,
    "executionTime": 1689,
    "lastExecutedAt": 1722685961091,
    "lastExecutedByKernel": "1c9c2a0e-5dda-47a1-a279-360957ad59c3",
    "lastScheduledRunId": null,
    "lastSuccessfullyExecutedCode": "ax=sns.barplot(data=ccf, x='category', y='amt', hue='is_fraud',errorbar=None)\nax.set_xticklabels(ax.get_xticklabels(), rotation=90, ha=\"right\")\nplt.title('AMT BY CATEGORY')\nplt.tight_layout()\nplt.show()"
   },
   "outputs": [
    {
     "name": "stderr",
     "output_type": "stream",
     "text": [
      "C:\\Users\\yrupa\\AppData\\Local\\Temp\\ipykernel_9508\\3255492498.py:2: UserWarning: set_ticklabels() should only be used with a fixed number of ticks, i.e. after set_ticks() or using a FixedLocator.\n",
      "  ax.set_xticklabels(ax.get_xticklabels(), rotation=90, ha=\"right\")\n"
     ]
    },
    {
     "data": {
      "image/png": "[encoded data removed]",
      "text/plain": [
       "<Figure size 640x480 with 1 Axes>"
      ]
     },
     "metadata": {},
     "output_type": "display_data"
    }
   ],
   "source": [
    "ax=sns.barplot(data=ccf, x='category', y='amt', hue='is_fraud',errorbar=None)\n",
    "ax.set_xticklabels(ax.get_xticklabels(), rotation=90, ha=\"right\")\n",
    "plt.title('AMT BY CATEGORY')\n",
    "plt.tight_layout()\n",
    "plt.show()"
   ]
  },
  {
   "cell_type": "code",
   "execution_count": 104,
   "id": "85f7658a-ff10-4348-a1c3-7c1e36623185",
   "metadata": {
    "executionCancelledAt": null,
    "executionTime": 352,
    "lastExecutedAt": 1722687540379,
    "lastExecutedByKernel": "1c9c2a0e-5dda-47a1-a279-360957ad59c3",
    "lastScheduledRunId": null,
    "lastSuccessfullyExecutedCode": "ax1=sns.lineplot(data=fraud, x='year_month', y='amt',errorbar=None)\nax1.set_xticklabels(ax1.get_xticklabels(), rotation=90, ha=\"right\")\nplt.title('DAILY COUNT OF FRAUD TRANS')\nplt.tight_layout()\nplt.show()"
   },
   "outputs": [
    {
     "name": "stderr",
     "output_type": "stream",
     "text": [
      "C:\\Users\\yrupa\\AppData\\Local\\Temp\\ipykernel_9508\\1414763599.py:2: UserWarning: set_ticklabels() should only be used with a fixed number of ticks, i.e. after set_ticks() or using a FixedLocator.\n",
      "  ax1.set_xticklabels(ax1.get_xticklabels(), rotation=90, ha=\"right\")\n"
     ]
    },
    {
     "data": {
      "image/png": "[encoded data removed]",
      "text/plain": [
       "<Figure size 640x480 with 1 Axes>"
      ]
     },
     "metadata": {},
     "output_type": "display_data"
    }
   ],
   "source": [
    "ax1=sns.lineplot(data=fraud, x='year_month', y='amt',errorbar=None)\n",
    "ax1.set_xticklabels(ax1.get_xticklabels(), rotation=90, ha=\"right\")\n",
    "plt.title('MONTHLY COUNT OF FRAUD TRANS')\n",
    "plt.tight_layout()\n",
    "plt.show()"
   ]
  },
  {
   "cell_type": "code",
   "execution_count": 26,
   "id": "53c51896-3d01-48ff-94fe-4823330038bc",
   "metadata": {
    "executionCancelledAt": null,
    "executionTime": 54,
    "lastExecutedAt": 1722688928899,
    "lastExecutedByKernel": "1c9c2a0e-5dda-47a1-a279-360957ad59c3",
    "lastScheduledRunId": null,
    "lastSuccessfullyExecutedCode": "fraud_state=fraud[[\"state\",\"is_fraud\"]]"
   },
   "outputs": [],
   "source": [
    "fraud_state=fraud[[\"state\",\"is_fraud\"]]"
   ]
  },
  {
   "cell_type": "code",
   "execution_count": 27,
   "id": "110b6f0c-92ec-4f4f-84da-d8e00143e1ee",
   "metadata": {
    "executionCancelledAt": null,
    "executionTime": null,
    "lastExecutedAt": null,
    "lastExecutedByKernel": null,
    "lastScheduledRunId": null,
    "lastSuccessfullyExecutedCode": null,
    "outputsMetadata": {
     "0": {
      "height": 317,
      "type": "dataFrame"
     }
    }
   },
   "outputs": [
    {
     "data": {
      "text/html": [
       "<div>\n",
       "<style scoped>\n",
       "    .dataframe tbody tr th:only-of-type {\n",
       "        vertical-align: middle;\n",
       "    }\n",
       "\n",
       "    .dataframe tbody tr th {\n",
       "        vertical-align: top;\n",
       "    }\n",
       "\n",
       "    .dataframe thead th {\n",
       "        text-align: right;\n",
       "    }\n",
       "</style>\n",
       "<table border=\"1\" class=\"dataframe\">\n",
       "  <thead>\n",
       "    <tr style=\"text-align: right;\">\n",
       "      <th></th>\n",
       "      <th>state</th>\n",
       "      <th>is_fraud</th>\n",
       "    </tr>\n",
       "  </thead>\n",
       "  <tbody>\n",
       "    <tr>\n",
       "      <th>945</th>\n",
       "      <td>AK</td>\n",
       "      <td>1</td>\n",
       "    </tr>\n",
       "    <tr>\n",
       "      <th>1077</th>\n",
       "      <td>AK</td>\n",
       "      <td>1</td>\n",
       "    </tr>\n",
       "    <tr>\n",
       "      <th>1184</th>\n",
       "      <td>AK</td>\n",
       "      <td>1</td>\n",
       "    </tr>\n",
       "    <tr>\n",
       "      <th>1192</th>\n",
       "      <td>AK</td>\n",
       "      <td>1</td>\n",
       "    </tr>\n",
       "    <tr>\n",
       "      <th>1202</th>\n",
       "      <td>AK</td>\n",
       "      <td>1</td>\n",
       "    </tr>\n",
       "    <tr>\n",
       "      <th>...</th>\n",
       "      <td>...</td>\n",
       "      <td>...</td>\n",
       "    </tr>\n",
       "    <tr>\n",
       "      <th>322261</th>\n",
       "      <td>CA</td>\n",
       "      <td>1</td>\n",
       "    </tr>\n",
       "    <tr>\n",
       "      <th>322468</th>\n",
       "      <td>CA</td>\n",
       "      <td>1</td>\n",
       "    </tr>\n",
       "    <tr>\n",
       "      <th>322821</th>\n",
       "      <td>CA</td>\n",
       "      <td>1</td>\n",
       "    </tr>\n",
       "    <tr>\n",
       "      <th>322846</th>\n",
       "      <td>CA</td>\n",
       "      <td>1</td>\n",
       "    </tr>\n",
       "    <tr>\n",
       "      <th>322859</th>\n",
       "      <td>CA</td>\n",
       "      <td>1</td>\n",
       "    </tr>\n",
       "  </tbody>\n",
       "</table>\n",
       "<p>1782 rows × 2 columns</p>\n",
       "</div>"
      ],
      "text/plain": [
       "       state  is_fraud\n",
       "945       AK         1\n",
       "1077      AK         1\n",
       "1184      AK         1\n",
       "1192      AK         1\n",
       "1202      AK         1\n",
       "...      ...       ...\n",
       "322261    CA         1\n",
       "322468    CA         1\n",
       "322821    CA         1\n",
       "322846    CA         1\n",
       "322859    CA         1\n",
       "\n",
       "[1782 rows x 2 columns]"
      ]
     },
     "execution_count": 27,
     "metadata": {},
     "output_type": "execute_result"
    }
   ],
   "source": [
    "fraud_state"
   ]
  },
  {
   "cell_type": "code",
   "execution_count": 30,
   "id": "943357a5-9dae-4c77-bc42-75a9d6949ea0",
   "metadata": {
    "executionCancelledAt": null,
    "executionTime": 292,
    "lastExecutedAt": 1722689145528,
    "lastExecutedByKernel": "1c9c2a0e-5dda-47a1-a279-360957ad59c3",
    "lastScheduledRunId": null,
    "lastSuccessfullyExecutedCode": "ax1=sns.barplot(data=fraud, x='state', y='amt',errorbar=None)\nax1.set_xticklabels(ax1.get_xticklabels(), rotation=90, ha=\"right\")\nplt.title('STATE WISE FRAUD PATTERN')\nplt.tight_layout()\nplt.show()\n"
   },
   "outputs": [
    {
     "name": "stderr",
     "output_type": "stream",
     "text": [
      "C:\\Users\\yrupa\\AppData\\Local\\Temp\\ipykernel_9508\\3419029560.py:2: UserWarning: set_ticklabels() should only be used with a fixed number of ticks, i.e. after set_ticks() or using a FixedLocator.\n",
      "  ax1.set_xticklabels(ax1.get_xticklabels(), rotation=90, ha=\"right\")\n"
     ]
    },
    {
     "data": {
      "image/png": "[encoded data removed]",
      "text/plain": [
       "<Figure size 640x480 with 1 Axes>"
      ]
     },
     "metadata": {},
     "output_type": "display_data"
    }
   ],
   "source": [
    "ax1=sns.barplot(data=fraud, x='state', y='amt',errorbar=None)\n",
    "ax1.set_xticklabels(ax1.get_xticklabels(), rotation=90, ha=\"right\")\n",
    "plt.title('STATE WISE FRAUD PATTERN')\n",
    "plt.tight_layout()\n",
    "plt.show()\n"
   ]
  },
  {
   "cell_type": "code",
   "execution_count": 88,
   "id": "1cebc3fb-d625-4104-82fe-ee0e05415a5a",
   "metadata": {
    "executionCancelledAt": null,
    "executionTime": 840,
    "lastExecutedAt": 1722690130757,
    "lastExecutedByKernel": "1c9c2a0e-5dda-47a1-a279-360957ad59c3",
    "lastScheduledRunId": null,
    "lastSuccessfullyExecutedCode": "ax1=sns.countplot(data=ccf, x='state', hue='is_fraud')\nax1.set_xticklabels(ax1.get_xticklabels(), rotation=90, ha=\"right\")\nplt.title('STATE WISE COUNT OF FRAUD TRANS')\nplt.tight_layout()\nplt.show()"
   },
   "outputs": [
    {
     "name": "stderr",
     "output_type": "stream",
     "text": [
      "C:\\Users\\yrupa\\AppData\\Local\\Temp\\ipykernel_10324\\3621630950.py:2: UserWarning: set_ticklabels() should only be used with a fixed number of ticks, i.e. after set_ticks() or using a FixedLocator.\n",
      "  ax1.set_xticklabels(ax1.get_xticklabels(), rotation=90, ha=\"right\")\n"
     ]
    },
    {
     "data": {
      "image/png": "[encoded data removed]",
      "text/plain": [
       "<Figure size 640x480 with 1 Axes>"
      ]
     },
     "metadata": {},
     "output_type": "display_data"
    }
   ],
   "source": [
    "ax1=sns.countplot(data=ccf, x='state', hue='is_fraud')\n",
    "ax1.set_xticklabels(ax1.get_xticklabels(), rotation=90, ha=\"right\")\n",
    "plt.title('STATE WISE COUNT OF FRAUD TRANSACTIONS')\n",
    "plt.tight_layout()\n",
    "plt.show()"
   ]
  },
  {
   "cell_type": "code",
   "execution_count": 31,
   "id": "2b64e0b5-2a03-4688-8e66-13e938313fff",
   "metadata": {},
   "outputs": [],
   "source": [
    "#find percentage of fradulent transactions"
   ]
  },
  {
   "cell_type": "code",
   "execution_count": 49,
   "id": "b993720e-9eba-40b5-a4be-26812c8dc8ad",
   "metadata": {
    "executionCancelledAt": null,
    "executionTime": 53,
    "lastExecutedAt": 1722757592854,
    "lastExecutedByKernel": "f1f5dfbc-d60e-49c3-93ac-c622eaadfe99",
    "lastScheduledRunId": null,
    "lastSuccessfullyExecutedCode": "A=fraud.groupby(['state', 'job']).count()['is_fraud']\nA",
    "outputsMetadata": {
     "0": {
      "height": 317,
      "type": "dataFrame"
     }
    }
   },
   "outputs": [
    {
     "data": {
      "text/plain": [
       "state\n",
       "AK     50\n",
       "AZ     64\n",
       "CA    402\n",
       "CO    115\n",
       "HI     16\n",
       "ID     33\n",
       "MO    262\n",
       "NE    216\n",
       "NM    121\n",
       "OR    197\n",
       "UT     61\n",
       "WA    126\n",
       "WY    119\n",
       "Name: is_fraud, dtype: int64"
      ]
     },
     "execution_count": 49,
     "metadata": {},
     "output_type": "execute_result"
    }
   ],
   "source": [
    "A=fraud.groupby(['state']).count()['is_fraud']\n",
    "A"
   ]
  },
  {
   "cell_type": "code",
   "execution_count": 50,
   "id": "0978d281-2ccb-43d1-acab-023c06295f8f",
   "metadata": {
    "executionCancelledAt": null,
    "executionTime": 138,
    "lastExecutedAt": 1722757607113,
    "lastExecutedByKernel": "f1f5dfbc-d60e-49c3-93ac-c622eaadfe99",
    "lastScheduledRunId": null,
    "lastSuccessfullyExecutedCode": "B=ccf.groupby(['state', 'job']).count()['is_fraud']",
    "outputsMetadata": {
     "0": {
      "height": 317,
      "type": "dataFrame"
     }
    }
   },
   "outputs": [
    {
     "data": {
      "text/plain": [
       "state\n",
       "AK     2963\n",
       "AZ    15362\n",
       "CA    80495\n",
       "CO    19766\n",
       "HI     3649\n",
       "ID     8035\n",
       "MO    54904\n",
       "NE    34425\n",
       "NM    23427\n",
       "OR    26408\n",
       "UT    15357\n",
       "WA    27040\n",
       "WY    27776\n",
       "Name: is_fraud, dtype: int64"
      ]
     },
     "execution_count": 50,
     "metadata": {},
     "output_type": "execute_result"
    }
   ],
   "source": [
    "B=ccf.groupby(['state']).count()['is_fraud']\n",
    "B"
   ]
  },
  {
   "cell_type": "code",
   "execution_count": 51,
   "id": "2f6257e5-8845-45a2-a03e-730e0fb5960c",
   "metadata": {
    "executionCancelledAt": null,
    "executionTime": 55,
    "lastExecutedAt": 1722757978969,
    "lastExecutedByKernel": "f1f5dfbc-d60e-49c3-93ac-c622eaadfe99",
    "lastScheduledRunId": null,
    "lastSuccessfullyExecutedCode": "new2=df = pd.merge(A, B, right_index = True, left_index = True)"
   },
   "outputs": [],
   "source": [
    "new2=df = pd.merge(A, B, right_index = True, left_index = True)"
   ]
  },
  {
   "cell_type": "code",
   "execution_count": 52,
   "id": "fb6eeaf7-03e3-44c7-989a-28ca6fdf1c2c",
   "metadata": {
    "executionCancelledAt": null,
    "executionTime": 23,
    "lastExecutedAt": 1722758820374,
    "lastExecutedByKernel": "f1f5dfbc-d60e-49c3-93ac-c622eaadfe99",
    "lastScheduledRunId": null,
    "lastSuccessfullyExecutedCode": "new2"
   },
   "outputs": [
    {
     "data": {
      "text/html": [
       "<div>\n",
       "<style scoped>\n",
       "    .dataframe tbody tr th:only-of-type {\n",
       "        vertical-align: middle;\n",
       "    }\n",
       "\n",
       "    .dataframe tbody tr th {\n",
       "        vertical-align: top;\n",
       "    }\n",
       "\n",
       "    .dataframe thead th {\n",
       "        text-align: right;\n",
       "    }\n",
       "</style>\n",
       "<table border=\"1\" class=\"dataframe\">\n",
       "  <thead>\n",
       "    <tr style=\"text-align: right;\">\n",
       "      <th></th>\n",
       "      <th>is_fraud_x</th>\n",
       "      <th>is_fraud_y</th>\n",
       "    </tr>\n",
       "    <tr>\n",
       "      <th>state</th>\n",
       "      <th></th>\n",
       "      <th></th>\n",
       "    </tr>\n",
       "  </thead>\n",
       "  <tbody>\n",
       "    <tr>\n",
       "      <th>AK</th>\n",
       "      <td>50</td>\n",
       "      <td>2963</td>\n",
       "    </tr>\n",
       "    <tr>\n",
       "      <th>AZ</th>\n",
       "      <td>64</td>\n",
       "      <td>15362</td>\n",
       "    </tr>\n",
       "    <tr>\n",
       "      <th>CA</th>\n",
       "      <td>402</td>\n",
       "      <td>80495</td>\n",
       "    </tr>\n",
       "    <tr>\n",
       "      <th>CO</th>\n",
       "      <td>115</td>\n",
       "      <td>19766</td>\n",
       "    </tr>\n",
       "    <tr>\n",
       "      <th>HI</th>\n",
       "      <td>16</td>\n",
       "      <td>3649</td>\n",
       "    </tr>\n",
       "    <tr>\n",
       "      <th>ID</th>\n",
       "      <td>33</td>\n",
       "      <td>8035</td>\n",
       "    </tr>\n",
       "    <tr>\n",
       "      <th>MO</th>\n",
       "      <td>262</td>\n",
       "      <td>54904</td>\n",
       "    </tr>\n",
       "    <tr>\n",
       "      <th>NE</th>\n",
       "      <td>216</td>\n",
       "      <td>34425</td>\n",
       "    </tr>\n",
       "    <tr>\n",
       "      <th>NM</th>\n",
       "      <td>121</td>\n",
       "      <td>23427</td>\n",
       "    </tr>\n",
       "    <tr>\n",
       "      <th>OR</th>\n",
       "      <td>197</td>\n",
       "      <td>26408</td>\n",
       "    </tr>\n",
       "    <tr>\n",
       "      <th>UT</th>\n",
       "      <td>61</td>\n",
       "      <td>15357</td>\n",
       "    </tr>\n",
       "    <tr>\n",
       "      <th>WA</th>\n",
       "      <td>126</td>\n",
       "      <td>27040</td>\n",
       "    </tr>\n",
       "    <tr>\n",
       "      <th>WY</th>\n",
       "      <td>119</td>\n",
       "      <td>27776</td>\n",
       "    </tr>\n",
       "  </tbody>\n",
       "</table>\n",
       "</div>"
      ],
      "text/plain": [
       "       is_fraud_x  is_fraud_y\n",
       "state                        \n",
       "AK             50        2963\n",
       "AZ             64       15362\n",
       "CA            402       80495\n",
       "CO            115       19766\n",
       "HI             16        3649\n",
       "ID             33        8035\n",
       "MO            262       54904\n",
       "NE            216       34425\n",
       "NM            121       23427\n",
       "OR            197       26408\n",
       "UT             61       15357\n",
       "WA            126       27040\n",
       "WY            119       27776"
      ]
     },
     "execution_count": 52,
     "metadata": {},
     "output_type": "execute_result"
    }
   ],
   "source": [
    "new2"
   ]
  },
  {
   "cell_type": "code",
   "execution_count": 53,
   "id": "c73bc147-c727-4af3-8bff-a5bdda7de190",
   "metadata": {
    "executionCancelledAt": null,
    "executionTime": 53,
    "lastExecutedAt": 1722757989785,
    "lastExecutedByKernel": "f1f5dfbc-d60e-49c3-93ac-c622eaadfe99",
    "lastScheduledRunId": null,
    "lastSuccessfullyExecutedCode": "new2.columns = ['FRAUD TRANS COUNT', 'TOTAL TRANS COUNT']"
   },
   "outputs": [],
   "source": [
    "new2.columns = ['FRAUD TRANS COUNT', 'TOTAL TRANS COUNT']"
   ]
  },
  {
   "cell_type": "code",
   "execution_count": 54,
   "id": "ca32a19f-d6cd-4aeb-887f-026af4e63d7a",
   "metadata": {},
   "outputs": [
    {
     "data": {
      "text/html": [
       "<div>\n",
       "<style scoped>\n",
       "    .dataframe tbody tr th:only-of-type {\n",
       "        vertical-align: middle;\n",
       "    }\n",
       "\n",
       "    .dataframe tbody tr th {\n",
       "        vertical-align: top;\n",
       "    }\n",
       "\n",
       "    .dataframe thead th {\n",
       "        text-align: right;\n",
       "    }\n",
       "</style>\n",
       "<table border=\"1\" class=\"dataframe\">\n",
       "  <thead>\n",
       "    <tr style=\"text-align: right;\">\n",
       "      <th></th>\n",
       "      <th>FRAUD TRANS COUNT</th>\n",
       "      <th>TOTAL TRANS COUNT</th>\n",
       "    </tr>\n",
       "    <tr>\n",
       "      <th>state</th>\n",
       "      <th></th>\n",
       "      <th></th>\n",
       "    </tr>\n",
       "  </thead>\n",
       "  <tbody>\n",
       "    <tr>\n",
       "      <th>AK</th>\n",
       "      <td>50</td>\n",
       "      <td>2963</td>\n",
       "    </tr>\n",
       "    <tr>\n",
       "      <th>AZ</th>\n",
       "      <td>64</td>\n",
       "      <td>15362</td>\n",
       "    </tr>\n",
       "    <tr>\n",
       "      <th>CA</th>\n",
       "      <td>402</td>\n",
       "      <td>80495</td>\n",
       "    </tr>\n",
       "    <tr>\n",
       "      <th>CO</th>\n",
       "      <td>115</td>\n",
       "      <td>19766</td>\n",
       "    </tr>\n",
       "    <tr>\n",
       "      <th>HI</th>\n",
       "      <td>16</td>\n",
       "      <td>3649</td>\n",
       "    </tr>\n",
       "    <tr>\n",
       "      <th>ID</th>\n",
       "      <td>33</td>\n",
       "      <td>8035</td>\n",
       "    </tr>\n",
       "    <tr>\n",
       "      <th>MO</th>\n",
       "      <td>262</td>\n",
       "      <td>54904</td>\n",
       "    </tr>\n",
       "    <tr>\n",
       "      <th>NE</th>\n",
       "      <td>216</td>\n",
       "      <td>34425</td>\n",
       "    </tr>\n",
       "    <tr>\n",
       "      <th>NM</th>\n",
       "      <td>121</td>\n",
       "      <td>23427</td>\n",
       "    </tr>\n",
       "    <tr>\n",
       "      <th>OR</th>\n",
       "      <td>197</td>\n",
       "      <td>26408</td>\n",
       "    </tr>\n",
       "    <tr>\n",
       "      <th>UT</th>\n",
       "      <td>61</td>\n",
       "      <td>15357</td>\n",
       "    </tr>\n",
       "    <tr>\n",
       "      <th>WA</th>\n",
       "      <td>126</td>\n",
       "      <td>27040</td>\n",
       "    </tr>\n",
       "    <tr>\n",
       "      <th>WY</th>\n",
       "      <td>119</td>\n",
       "      <td>27776</td>\n",
       "    </tr>\n",
       "  </tbody>\n",
       "</table>\n",
       "</div>"
      ],
      "text/plain": [
       "       FRAUD TRANS COUNT  TOTAL TRANS COUNT\n",
       "state                                      \n",
       "AK                    50               2963\n",
       "AZ                    64              15362\n",
       "CA                   402              80495\n",
       "CO                   115              19766\n",
       "HI                    16               3649\n",
       "ID                    33               8035\n",
       "MO                   262              54904\n",
       "NE                   216              34425\n",
       "NM                   121              23427\n",
       "OR                   197              26408\n",
       "UT                    61              15357\n",
       "WA                   126              27040\n",
       "WY                   119              27776"
      ]
     },
     "execution_count": 54,
     "metadata": {},
     "output_type": "execute_result"
    }
   ],
   "source": [
    "new2"
   ]
  },
  {
   "cell_type": "code",
   "execution_count": 61,
   "id": "4ac6e9f6-bad4-4961-a7cd-345bf254dd95",
   "metadata": {
    "executionCancelledAt": null,
    "executionTime": 11,
    "lastExecutedAt": 1722757991689,
    "lastExecutedByKernel": "f1f5dfbc-d60e-49c3-93ac-c622eaadfe99",
    "lastScheduledRunId": null,
    "lastSuccessfullyExecutedCode": "new2['percentage of fraud']=((new2['FRAUD TRANS COUNT']/new2['TOTAL TRANS COUNT'])*100).round(2)"
   },
   "outputs": [],
   "source": [
    "new2['percentage of fraud (%)']=((new2['FRAUD TRANS COUNT']/new2['TOTAL TRANS COUNT'])*100).round(2)"
   ]
  },
  {
   "cell_type": "code",
   "execution_count": 64,
   "id": "892d670f-0bcb-4c75-bcde-20c3097b50ec",
   "metadata": {},
   "outputs": [
    {
     "data": {
      "text/html": [
       "<div>\n",
       "<style scoped>\n",
       "    .dataframe tbody tr th:only-of-type {\n",
       "        vertical-align: middle;\n",
       "    }\n",
       "\n",
       "    .dataframe tbody tr th {\n",
       "        vertical-align: top;\n",
       "    }\n",
       "\n",
       "    .dataframe thead th {\n",
       "        text-align: right;\n",
       "    }\n",
       "</style>\n",
       "<table border=\"1\" class=\"dataframe\">\n",
       "  <thead>\n",
       "    <tr style=\"text-align: right;\">\n",
       "      <th></th>\n",
       "      <th>state</th>\n",
       "      <th>FRAUD TRANS COUNT</th>\n",
       "      <th>TOTAL TRANS COUNT</th>\n",
       "      <th>percentage of fraud (%)</th>\n",
       "    </tr>\n",
       "  </thead>\n",
       "  <tbody>\n",
       "    <tr>\n",
       "      <th>0</th>\n",
       "      <td>AK</td>\n",
       "      <td>50</td>\n",
       "      <td>2963</td>\n",
       "      <td>1.69</td>\n",
       "    </tr>\n",
       "    <tr>\n",
       "      <th>1</th>\n",
       "      <td>AZ</td>\n",
       "      <td>64</td>\n",
       "      <td>15362</td>\n",
       "      <td>0.42</td>\n",
       "    </tr>\n",
       "    <tr>\n",
       "      <th>2</th>\n",
       "      <td>CA</td>\n",
       "      <td>402</td>\n",
       "      <td>80495</td>\n",
       "      <td>0.50</td>\n",
       "    </tr>\n",
       "    <tr>\n",
       "      <th>3</th>\n",
       "      <td>CO</td>\n",
       "      <td>115</td>\n",
       "      <td>19766</td>\n",
       "      <td>0.58</td>\n",
       "    </tr>\n",
       "    <tr>\n",
       "      <th>4</th>\n",
       "      <td>HI</td>\n",
       "      <td>16</td>\n",
       "      <td>3649</td>\n",
       "      <td>0.44</td>\n",
       "    </tr>\n",
       "    <tr>\n",
       "      <th>5</th>\n",
       "      <td>ID</td>\n",
       "      <td>33</td>\n",
       "      <td>8035</td>\n",
       "      <td>0.41</td>\n",
       "    </tr>\n",
       "    <tr>\n",
       "      <th>6</th>\n",
       "      <td>MO</td>\n",
       "      <td>262</td>\n",
       "      <td>54904</td>\n",
       "      <td>0.48</td>\n",
       "    </tr>\n",
       "    <tr>\n",
       "      <th>7</th>\n",
       "      <td>NE</td>\n",
       "      <td>216</td>\n",
       "      <td>34425</td>\n",
       "      <td>0.63</td>\n",
       "    </tr>\n",
       "    <tr>\n",
       "      <th>8</th>\n",
       "      <td>NM</td>\n",
       "      <td>121</td>\n",
       "      <td>23427</td>\n",
       "      <td>0.52</td>\n",
       "    </tr>\n",
       "    <tr>\n",
       "      <th>9</th>\n",
       "      <td>OR</td>\n",
       "      <td>197</td>\n",
       "      <td>26408</td>\n",
       "      <td>0.75</td>\n",
       "    </tr>\n",
       "    <tr>\n",
       "      <th>10</th>\n",
       "      <td>UT</td>\n",
       "      <td>61</td>\n",
       "      <td>15357</td>\n",
       "      <td>0.40</td>\n",
       "    </tr>\n",
       "    <tr>\n",
       "      <th>11</th>\n",
       "      <td>WA</td>\n",
       "      <td>126</td>\n",
       "      <td>27040</td>\n",
       "      <td>0.47</td>\n",
       "    </tr>\n",
       "    <tr>\n",
       "      <th>12</th>\n",
       "      <td>WY</td>\n",
       "      <td>119</td>\n",
       "      <td>27776</td>\n",
       "      <td>0.43</td>\n",
       "    </tr>\n",
       "  </tbody>\n",
       "</table>\n",
       "</div>"
      ],
      "text/plain": [
       "   state  FRAUD TRANS COUNT  TOTAL TRANS COUNT  percentage of fraud (%)\n",
       "0     AK                 50               2963                     1.69\n",
       "1     AZ                 64              15362                     0.42\n",
       "2     CA                402              80495                     0.50\n",
       "3     CO                115              19766                     0.58\n",
       "4     HI                 16               3649                     0.44\n",
       "5     ID                 33               8035                     0.41\n",
       "6     MO                262              54904                     0.48\n",
       "7     NE                216              34425                     0.63\n",
       "8     NM                121              23427                     0.52\n",
       "9     OR                197              26408                     0.75\n",
       "10    UT                 61              15357                     0.40\n",
       "11    WA                126              27040                     0.47\n",
       "12    WY                119              27776                     0.43"
      ]
     },
     "execution_count": 64,
     "metadata": {},
     "output_type": "execute_result"
    }
   ],
   "source": [
    "new2"
   ]
  },
  {
   "cell_type": "code",
   "execution_count": 57,
   "id": "ae051e2f-e546-4b7d-802d-0223ed670f0c",
   "metadata": {
    "executionCancelledAt": null,
    "executionTime": 11,
    "lastExecutedAt": 1722758814568,
    "lastExecutedByKernel": "f1f5dfbc-d60e-49c3-93ac-c622eaadfe99",
    "lastScheduledRunId": null,
    "lastSuccessfullyExecutedCode": "new2.reset_index(inplace=True)"
   },
   "outputs": [],
   "source": [
    "new2.reset_index(inplace=True)"
   ]
  },
  {
   "cell_type": "code",
   "execution_count": 66,
   "id": "2d5cc8f8-a895-41de-852b-b8a1dba92dfe",
   "metadata": {},
   "outputs": [
    {
     "data": {
      "text/html": [
       "<div>\n",
       "<style scoped>\n",
       "    .dataframe tbody tr th:only-of-type {\n",
       "        vertical-align: middle;\n",
       "    }\n",
       "\n",
       "    .dataframe tbody tr th {\n",
       "        vertical-align: top;\n",
       "    }\n",
       "\n",
       "    .dataframe thead th {\n",
       "        text-align: right;\n",
       "    }\n",
       "</style>\n",
       "<table border=\"1\" class=\"dataframe\">\n",
       "  <thead>\n",
       "    <tr style=\"text-align: right;\">\n",
       "      <th></th>\n",
       "      <th>state</th>\n",
       "      <th>FRAUD TRANS COUNT</th>\n",
       "      <th>TOTAL TRANS COUNT</th>\n",
       "      <th>percentage of fraud (%)</th>\n",
       "    </tr>\n",
       "  </thead>\n",
       "  <tbody>\n",
       "    <tr>\n",
       "      <th>10</th>\n",
       "      <td>UT</td>\n",
       "      <td>61</td>\n",
       "      <td>15357</td>\n",
       "      <td>0.40</td>\n",
       "    </tr>\n",
       "    <tr>\n",
       "      <th>5</th>\n",
       "      <td>ID</td>\n",
       "      <td>33</td>\n",
       "      <td>8035</td>\n",
       "      <td>0.41</td>\n",
       "    </tr>\n",
       "    <tr>\n",
       "      <th>1</th>\n",
       "      <td>AZ</td>\n",
       "      <td>64</td>\n",
       "      <td>15362</td>\n",
       "      <td>0.42</td>\n",
       "    </tr>\n",
       "    <tr>\n",
       "      <th>12</th>\n",
       "      <td>WY</td>\n",
       "      <td>119</td>\n",
       "      <td>27776</td>\n",
       "      <td>0.43</td>\n",
       "    </tr>\n",
       "    <tr>\n",
       "      <th>4</th>\n",
       "      <td>HI</td>\n",
       "      <td>16</td>\n",
       "      <td>3649</td>\n",
       "      <td>0.44</td>\n",
       "    </tr>\n",
       "    <tr>\n",
       "      <th>11</th>\n",
       "      <td>WA</td>\n",
       "      <td>126</td>\n",
       "      <td>27040</td>\n",
       "      <td>0.47</td>\n",
       "    </tr>\n",
       "    <tr>\n",
       "      <th>6</th>\n",
       "      <td>MO</td>\n",
       "      <td>262</td>\n",
       "      <td>54904</td>\n",
       "      <td>0.48</td>\n",
       "    </tr>\n",
       "    <tr>\n",
       "      <th>2</th>\n",
       "      <td>CA</td>\n",
       "      <td>402</td>\n",
       "      <td>80495</td>\n",
       "      <td>0.50</td>\n",
       "    </tr>\n",
       "    <tr>\n",
       "      <th>8</th>\n",
       "      <td>NM</td>\n",
       "      <td>121</td>\n",
       "      <td>23427</td>\n",
       "      <td>0.52</td>\n",
       "    </tr>\n",
       "    <tr>\n",
       "      <th>3</th>\n",
       "      <td>CO</td>\n",
       "      <td>115</td>\n",
       "      <td>19766</td>\n",
       "      <td>0.58</td>\n",
       "    </tr>\n",
       "    <tr>\n",
       "      <th>7</th>\n",
       "      <td>NE</td>\n",
       "      <td>216</td>\n",
       "      <td>34425</td>\n",
       "      <td>0.63</td>\n",
       "    </tr>\n",
       "    <tr>\n",
       "      <th>9</th>\n",
       "      <td>OR</td>\n",
       "      <td>197</td>\n",
       "      <td>26408</td>\n",
       "      <td>0.75</td>\n",
       "    </tr>\n",
       "    <tr>\n",
       "      <th>0</th>\n",
       "      <td>AK</td>\n",
       "      <td>50</td>\n",
       "      <td>2963</td>\n",
       "      <td>1.69</td>\n",
       "    </tr>\n",
       "  </tbody>\n",
       "</table>\n",
       "</div>"
      ],
      "text/plain": [
       "   state  FRAUD TRANS COUNT  TOTAL TRANS COUNT  percentage of fraud (%)\n",
       "10    UT                 61              15357                     0.40\n",
       "5     ID                 33               8035                     0.41\n",
       "1     AZ                 64              15362                     0.42\n",
       "12    WY                119              27776                     0.43\n",
       "4     HI                 16               3649                     0.44\n",
       "11    WA                126              27040                     0.47\n",
       "6     MO                262              54904                     0.48\n",
       "2     CA                402              80495                     0.50\n",
       "8     NM                121              23427                     0.52\n",
       "3     CO                115              19766                     0.58\n",
       "7     NE                216              34425                     0.63\n",
       "9     OR                197              26408                     0.75\n",
       "0     AK                 50               2963                     1.69"
      ]
     },
     "execution_count": 66,
     "metadata": {},
     "output_type": "execute_result"
    }
   ],
   "source": [
    "new2_sorted=new2.sort_values('percentage of fraud (%)')\n",
    "new2_sorted"
   ]
  },
  {
   "cell_type": "code",
   "execution_count": 67,
   "id": "699cce7b-7ed9-4b88-9509-bc39c0c9912a",
   "metadata": {
    "executionCancelledAt": null,
    "executionTime": 486,
    "lastExecutedAt": 1722758386359,
    "lastExecutedByKernel": "f1f5dfbc-d60e-49c3-93ac-c622eaadfe99",
    "lastScheduledRunId": null,
    "lastSuccessfullyExecutedCode": "sns.barplot(new2, x='state', y='percentage of fraud')"
   },
   "outputs": [
    {
     "data": {
      "text/plain": [
       "[Text(0.5, 1.0, 'PERCENTAGE OF FRAUD TRANSACTIONS STATE WISE')]"
      ]
     },
     "execution_count": 67,
     "metadata": {},
     "output_type": "execute_result"
    },
    {
     "data": {
      "image/png": "[encoded data removed]",
      "text/plain": [
       "<Figure size 640x480 with 1 Axes>"
      ]
     },
     "metadata": {},
     "output_type": "display_data"
    }
   ],
   "source": [
    "sns.barplot(new2_sorted, x='state', y='percentage of fraud (%)', errorbar=None).set(title='PERCENTAGE OF FRAUD TRANSACTIONS STATE WISE')"
   ]
  },
  {
   "cell_type": "markdown",
   "id": "de3a6254-0d9e-4079-a82c-09c0d753f3b7",
   "metadata": {},
   "source": [
    "## Summary of EDA\n",
    "\n",
    "1. The dataset did not have any nulls/ empty values. However, there were unwanted columns that would not add value to EDA. So they were dropped.\n",
    "2. Few transformations like conversion of data types, inclusion of new columns were done.\n",
    "3. 'grocery_pos' category had the highest number of fraud transactions, followed by 'shipping_net' and 'misc_net'.\n",
    "4. Howeevr, the amount of money lost in fraud is highest for 'shopping_net'.\n",
    "5. Highest number of fraud transactions where witnessed in Oct-2019 and the lowest was in Apr-2020. There is no proper trend in the pattern. Spikes are visible instead.\n",
    "6. HI , AK are states with high fraud amount. However, highest number of fraud transactions are seen in CA followed by MO.\n",
    "7. On comparing amount and count stats, CA state is high on frauds.\n",
    "8. AK has highest percentage of fraud transactions. "
   ]
  }
 ],
 "metadata": {
  "editor": "DataCamp Workspace",
  "kernelspec": {
   "display_name": "Python 3 (ipykernel)",
   "language": "python",
   "name": "python3"
  },
  "language_info": {
   "codemirror_mode": {
    "name": "ipython",
    "version": 3
   },
   "file_extension": ".py",
   "mimetype": "text/x-python",
   "name": "python",
   "nbconvert_exporter": "python",
   "pygments_lexer": "ipython3",
   "version": "3.12.4"
  }
 },
 "nbformat": 4,
 "nbformat_minor": 5
}
